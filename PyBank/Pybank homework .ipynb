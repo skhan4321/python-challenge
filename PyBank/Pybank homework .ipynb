{
 "cells": [
  {
   "cell_type": "code",
   "execution_count": 84,
   "metadata": {},
   "outputs": [
    {
     "ename": "TypeError",
     "evalue": "'list' object is not callable",
     "output_type": "error",
     "traceback": [
      "\u001b[1;31m---------------------------------------------------------------------------\u001b[0m",
      "\u001b[1;31mTypeError\u001b[0m                                 Traceback (most recent call last)",
      "\u001b[1;32m<ipython-input-84-117491464380>\u001b[0m in \u001b[0;36m<module>\u001b[1;34m\u001b[0m\n\u001b[0;32m     35\u001b[0m \u001b[0mmax_decrease\u001b[0m\u001b[1;33m=\u001b[0m\u001b[0mmin\u001b[0m\u001b[1;33m(\u001b[0m\u001b[0mchange_revenue\u001b[0m\u001b[1;33m)\u001b[0m\u001b[1;33m\u001b[0m\u001b[1;33m\u001b[0m\u001b[0m\n\u001b[0;32m     36\u001b[0m \u001b[0mmax_decrease_index\u001b[0m\u001b[1;33m=\u001b[0m\u001b[0mchange_revenue\u001b[0m\u001b[1;33m.\u001b[0m\u001b[0mindex\u001b[0m\u001b[1;33m(\u001b[0m\u001b[0mmax_decrease\u001b[0m\u001b[1;33m)\u001b[0m\u001b[1;33m\u001b[0m\u001b[1;33m\u001b[0m\u001b[0m\n\u001b[1;32m---> 37\u001b[1;33m \u001b[0mmax_date\u001b[0m\u001b[1;33m=\u001b[0m\u001b[0mchange_dates\u001b[0m\u001b[1;33m(\u001b[0m\u001b[0mmax_decrease_index\u001b[0m\u001b[1;33m)\u001b[0m\u001b[1;33m\u001b[0m\u001b[1;33m\u001b[0m\u001b[0m\n\u001b[0m\u001b[0;32m     38\u001b[0m \u001b[1;33m\u001b[0m\u001b[0m\n\u001b[0;32m     39\u001b[0m \u001b[1;33m\u001b[0m\u001b[0m\n",
      "\u001b[1;31mTypeError\u001b[0m: 'list' object is not callable"
     ]
    }
   ],
   "source": [
    "import csv \n",
    "\n",
    "import os \n",
    "\n",
    "csvpath = os.path.join(\"budget_data.csv\")\n",
    "\n",
    "#variables\n",
    "total_months = 0\n",
    "total_revenue = 0 \n",
    "change_revenue = [] \n",
    "previous_revenue = 0\n",
    "revenue_average = 0 \n",
    "current_value = float(row[\"Profit/Losses\"])\n",
    "change_dates=[]\n",
    "\n",
    "\n",
    "\n",
    "# open the file and run code\n",
    "with open(csvpath,'r') as budget_analysis:\n",
    "    csvreader = csv.DictReader(budget_analysis)\n",
    "    for row in csvreader:\n",
    "        \n",
    "        current_value = float(row[\"Profit/Losses\"])\n",
    "        total_months = total_months + 1\n",
    "        total_revenue = total_revenue + current_value\n",
    "        change_revenue.append(current_value - previous_revenue)\n",
    "        previous_revenue = current_value\n",
    "        dates =(row['Date'])\n",
    "        change_dates.append(dates)\n",
    "        \n",
    "#revenue change        \n",
    "\n",
    "max_increase=max(change_revenue)\n",
    "\n",
    "max_decrease=min(change_revenue)\n",
    "max_decrease_index=change_revenue.index(max_decrease)\n",
    "max_date=change_dates(max_decrease_index)\n",
    "\n",
    "        \n",
    "del change_revenue[0]\n",
    "\n",
    "\n",
    "revenue_average=sum(change_revenue)/total_months\n",
    "\n",
    "print(max_date)"
   ]
  },
  {
   "cell_type": "code",
   "execution_count": null,
   "metadata": {},
   "outputs": [],
   "source": [
    "2315.12 "
   ]
  }
 ],
 "metadata": {
  "kernelspec": {
   "display_name": "Python 3",
   "language": "python",
   "name": "python3"
  },
  "language_info": {
   "codemirror_mode": {
    "name": "ipython",
    "version": 3
   },
   "file_extension": ".py",
   "mimetype": "text/x-python",
   "name": "python",
   "nbconvert_exporter": "python",
   "pygments_lexer": "ipython3",
   "version": "3.7.3"
  }
 },
 "nbformat": 4,
 "nbformat_minor": 2
}
