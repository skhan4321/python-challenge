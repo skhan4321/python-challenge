{
 "cells": [
  {
   "cell_type": "code",
   "execution_count": 44,
   "metadata": {},
   "outputs": [
    {
     "name": "stdout",
     "output_type": "stream",
     "text": [
      "OrderedDict([('Date', 'Jan-2010'), ('Profit/Losses', '867884')])\n",
      "OrderedDict([('Date', 'Mar-2010'), ('Profit/Losses', '322013')])\n",
      "OrderedDict([('Date', 'May-2010'), ('Profit/Losses', '310503')])\n",
      "OrderedDict([('Date', 'Jul-2010'), ('Profit/Losses', '1033096')])\n",
      "OrderedDict([('Date', 'Sep-2010'), ('Profit/Losses', '-216386')])\n",
      "OrderedDict([('Date', 'Nov-2010'), ('Profit/Losses', '893810')])\n",
      "OrderedDict([('Date', 'Jan-2011'), ('Profit/Losses', '779806')])\n",
      "OrderedDict([('Date', 'Mar-2011'), ('Profit/Losses', '697845')])\n",
      "OrderedDict([('Date', 'May-2011'), ('Profit/Losses', '485070')])\n",
      "OrderedDict([('Date', 'Jul-2011'), ('Profit/Losses', '62729')])\n",
      "OrderedDict([('Date', 'Sep-2011'), ('Profit/Losses', '899906')])\n",
      "OrderedDict([('Date', 'Nov-2011'), ('Profit/Losses', '132003')])\n",
      "OrderedDict([('Date', 'Jan-2012'), ('Profit/Losses', '-755566')])\n",
      "OrderedDict([('Date', 'Mar-2012'), ('Profit/Losses', '252788')])\n",
      "OrderedDict([('Date', 'May-2012'), ('Profit/Losses', '817256')])\n",
      "OrderedDict([('Date', 'Jul-2012'), ('Profit/Losses', '506702')])\n",
      "OrderedDict([('Date', 'Sep-2012'), ('Profit/Losses', '475062')])\n",
      "OrderedDict([('Date', 'Nov-2012'), ('Profit/Losses', '144175')])\n",
      "OrderedDict([('Date', 'Jan-2013'), ('Profit/Losses', '359333')])\n",
      "OrderedDict([('Date', 'Mar-2013'), ('Profit/Losses', '67780')])\n",
      "OrderedDict([('Date', 'May-2013'), ('Profit/Losses', '565603')])\n",
      "OrderedDict([('Date', 'Jul-2013'), ('Profit/Losses', '789480')])\n",
      "OrderedDict([('Date', 'Sep-2013'), ('Profit/Losses', '-1196225')])\n",
      "OrderedDict([('Date', 'Nov-2013'), ('Profit/Losses', '-687986')])\n",
      "OrderedDict([('Date', 'Jan-2014'), ('Profit/Losses', '682458')])\n",
      "OrderedDict([('Date', 'Mar-2014'), ('Profit/Losses', '824098')])\n",
      "OrderedDict([('Date', 'May-2014'), ('Profit/Losses', '132864')])\n",
      "OrderedDict([('Date', 'Jul-2014'), ('Profit/Losses', '689161')])\n",
      "OrderedDict([('Date', 'Sep-2014'), ('Profit/Losses', '1166643')])\n",
      "OrderedDict([('Date', 'Nov-2014'), ('Profit/Losses', '578668')])\n",
      "OrderedDict([('Date', 'Jan-2015'), ('Profit/Losses', '1139715')])\n",
      "OrderedDict([('Date', 'Mar-2015'), ('Profit/Losses', '687533')])\n",
      "OrderedDict([('Date', 'May-2015'), ('Profit/Losses', '158620')])\n",
      "OrderedDict([('Date', 'Jul-2015'), ('Profit/Losses', '423389')])\n",
      "OrderedDict([('Date', 'Sep-2015'), ('Profit/Losses', '568529')])\n",
      "OrderedDict([('Date', 'Nov-2015'), ('Profit/Losses', '989499')])\n",
      "OrderedDict([('Date', 'Jan-2016'), ('Profit/Losses', '650000')])\n",
      "OrderedDict([('Date', 'Mar-2016'), ('Profit/Losses', '-174946')])\n",
      "OrderedDict([('Date', 'May-2016'), ('Profit/Losses', '445709')])\n",
      "OrderedDict([('Date', 'Jul-2016'), ('Profit/Losses', '-1163797')])\n",
      "OrderedDict([('Date', 'Sep-2016'), ('Profit/Losses', '768450')])\n",
      "OrderedDict([('Date', 'Nov-2016'), ('Profit/Losses', '795914')])\n",
      "OrderedDict([('Date', 'Jan-2017'), ('Profit/Losses', '138230')])\n",
      "[-545871.0, -11510.0, 722593.0, -1249482.0, 1110196.0, -114004.0, -81961.0, -212775.0, -422341.0, 837177.0, -767903.0, -887569.0, 1008354.0, 564468.0, -310554.0, -31640.0, -330887.0, 215158.0, -291553.0, 497823.0, 223877.0, -1985705.0, 508239.0, 1370444.0, 141640.0, -691234.0, 556297.0, 477482.0, -587975.0, 561047.0, -452182.0, -528913.0, 264769.0, 145140.0, 420970.0, -339499.0, -824946.0, 620655.0, -1609506.0, 1932247.0, 27464.0, -657684.0]\n"
     ]
    }
   ],
   "source": [
    "import csv \n",
    "\n",
    "import os \n",
    "\n",
    "csvpath = os.path.join(\"budget_data.csv\")\n",
    "\n",
    "#variables\n",
    "total_months = 0\n",
    "total_revenue = 0 \n",
    "change_revenue = [] \n",
    "previous_revenue = 0\n",
    "revenue_average = 0 \n",
    "\n",
    "# open the file and run code\n",
    "with open(csvpath,'r') as budget_analysis:\n",
    "    csvreader = csv.DictReader(budget_analysis)\n",
    "    for row in csvreader:\n",
    "        current_value = int(row[\"Profit/Losses\"])\n",
    "        \n",
    "        total_months = total_months + 1\n",
    "        total_revenue = total_revenue + current_value\n",
    "        change_revenue.append(float(row[\"Profit/Losses\"]) - previous_revenue)\n",
    "\n",
    "        previous_revenue = float(row[\"Profit/Losses\"])\n",
    "        \n",
    "\n",
    "del change_revenue[0]\n",
    "\n",
    "# revenue_average=sum(change_revenue/total_months)\n",
    "\n",
    "print(change_revenue)"
   ]
  },
  {
   "cell_type": "code",
   "execution_count": null,
   "metadata": {},
   "outputs": [],
   "source": [
    "2315.12 "
   ]
  }
 ],
 "metadata": {
  "kernelspec": {
   "display_name": "Python 3",
   "language": "python",
   "name": "python3"
  },
  "language_info": {
   "codemirror_mode": {
    "name": "ipython",
    "version": 3
   },
   "file_extension": ".py",
   "mimetype": "text/x-python",
   "name": "python",
   "nbconvert_exporter": "python",
   "pygments_lexer": "ipython3",
   "version": "3.7.3"
  }
 },
 "nbformat": 4,
 "nbformat_minor": 2
}
