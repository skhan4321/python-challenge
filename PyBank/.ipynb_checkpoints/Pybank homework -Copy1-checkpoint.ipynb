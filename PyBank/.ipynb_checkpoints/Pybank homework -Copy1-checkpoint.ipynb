{
 "cells": [
  {
   "cell_type": "code",
   "execution_count": 12,
   "metadata": {},
   "outputs": [
    {
     "ename": "TypeError",
     "evalue": "float() argument must be a string or a number, not 'collections.OrderedDict'",
     "output_type": "error",
     "traceback": [
      "\u001b[1;31m---------------------------------------------------------------------------\u001b[0m",
      "\u001b[1;31mTypeError\u001b[0m                                 Traceback (most recent call last)",
      "\u001b[1;32m<ipython-input-12-df8e16b47021>\u001b[0m in \u001b[0;36m<module>\u001b[1;34m\u001b[0m\n\u001b[0;32m     21\u001b[0m     \u001b[1;32mfor\u001b[0m \u001b[0mi\u001b[0m\u001b[1;33m,\u001b[0m \u001b[0mrow\u001b[0m \u001b[1;32min\u001b[0m \u001b[0menumerate\u001b[0m\u001b[1;33m(\u001b[0m\u001b[0mcsvreader\u001b[0m\u001b[1;33m)\u001b[0m\u001b[1;33m:\u001b[0m\u001b[1;33m\u001b[0m\u001b[1;33m\u001b[0m\u001b[0m\n\u001b[0;32m     22\u001b[0m \u001b[1;33m\u001b[0m\u001b[0m\n\u001b[1;32m---> 23\u001b[1;33m         \u001b[0mcurrent_value\u001b[0m \u001b[1;33m=\u001b[0m \u001b[0mfloat\u001b[0m\u001b[1;33m(\u001b[0m\u001b[0mrow\u001b[0m\u001b[1;33m)\u001b[0m\u001b[1;33m\u001b[0m\u001b[1;33m\u001b[0m\u001b[0m\n\u001b[0m\u001b[0;32m     24\u001b[0m         \u001b[0mprint\u001b[0m\u001b[1;33m(\u001b[0m\u001b[0mcurrent_value\u001b[0m\u001b[1;33m)\u001b[0m\u001b[1;33m\u001b[0m\u001b[1;33m\u001b[0m\u001b[0m\n\u001b[0;32m     25\u001b[0m         \u001b[0mtotal_months\u001b[0m \u001b[1;33m=\u001b[0m \u001b[0mtotal_months\u001b[0m \u001b[1;33m+\u001b[0m \u001b[1;36m1\u001b[0m\u001b[1;33m\u001b[0m\u001b[1;33m\u001b[0m\u001b[0m\n",
      "\u001b[1;31mTypeError\u001b[0m: float() argument must be a string or a number, not 'collections.OrderedDict'"
     ]
    }
   ],
   "source": [
    "import csv \n",
    "\n",
    "import os \n",
    "\n",
    "csvpath = os.path.join(\"budget_data.csv\")\n",
    "\n",
    "#variables\n",
    "total_months = 0\n",
    "total_revenue = 0 \n",
    "change_revenue = [] \n",
    "previous_revenue = 0\n",
    "revenue_average = 0 \n",
    "#current_value = float(row[\"Profit/Losses\"])\n",
    "change_dates=[]\n",
    "\n",
    "\n",
    "\n",
    "# open the file and run code\n",
    "with open(csvpath,'r') as budget_analysis:\n",
    "    csvreader = csv.DictReader(budget_analysis)\n",
    "    for i, row in enumerate(csvreader):\n",
    "        \n",
    "        current_value = float(row)\n",
    "        print(current_value)\n",
    "        total_months = total_months + 1\n",
    "        total_revenue = total_revenue + current_value\n",
    "        change_revenue.append(current_value - previous_revenue)\n",
    "        previous_revenue = current_value\n",
    "        dates =(row['Date'])\n",
    "        change_dates.append(dates)\n",
    "        \n",
    "#revenue change        \n",
    "max_decrease=min(change_revenue)\n",
    "max_increase=max(change_revenue)\n",
    "\n",
    "max_decrease_index=change_revenue.index(max_decrease)\n",
    "max_date=change_dates[max_decrease_index]\n",
    "\n",
    "\n",
    "\n",
    "        \n",
    "#del change_revenue[0]\n",
    "\n",
    "\n",
    "revenue_average=sum(change_revenue)/total_months\n",
    "\n",
    "print(revenue_average)"
   ]
  },
  {
   "cell_type": "code",
   "execution_count": null,
   "metadata": {},
   "outputs": [],
   "source": [
    "2315.12 "
   ]
  }
 ],
 "metadata": {
  "kernelspec": {
   "display_name": "Python 3",
   "language": "python",
   "name": "python3"
  }
 },
 "nbformat": 4,
 "nbformat_minor": 2
}
